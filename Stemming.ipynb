{
 "cells": [
  {
   "cell_type": "code",
   "execution_count": 22,
   "id": "71f194b8-acf4-4d97-8c65-3241ab80d416",
   "metadata": {},
   "outputs": [],
   "source": [
    "import nltk"
   ]
  },
  {
   "cell_type": "code",
   "execution_count": 23,
   "id": "bbb1128c-7800-43a9-bb26-4b1a1e60dadc",
   "metadata": {},
   "outputs": [],
   "source": [
    "from nltk.stem import PorterStemmer"
   ]
  },
  {
   "cell_type": "code",
   "execution_count": 24,
   "id": "b4a0b0e7-f3ce-4989-a519-98f88018b610",
   "metadata": {},
   "outputs": [],
   "source": [
    "from nltk.stem import SnowballStemmer"
   ]
  },
  {
   "cell_type": "code",
   "execution_count": 25,
   "id": "0381a049-39ef-4103-b699-eb500aef4530",
   "metadata": {},
   "outputs": [],
   "source": [
    "from nltk.stem import LancasterStemmer"
   ]
  },
  {
   "cell_type": "code",
   "execution_count": 26,
   "id": "247eb2d0-3640-411e-8dad-27feb9aa88ec",
   "metadata": {},
   "outputs": [],
   "source": [
    "inf_words = [\"write\", \"writer\",\"writing\", \"run\", \"running\", \"runner\", \"code\", \"coder\",\"coding\", \"coders\",\n",
    "            \"university\",\"universities\",\"universal\",\"universe\", \"change\", \"changes\",\"changer\",\"changing\"]"
   ]
  },
  {
   "cell_type": "code",
   "execution_count": 27,
   "id": "275d4726-9ee5-41d1-89b3-7f026e739082",
   "metadata": {},
   "outputs": [
    {
     "name": "stdout",
     "output_type": "stream",
     "text": [
      "write\n",
      "writer\n",
      "writing\n",
      "run\n",
      "running\n",
      "runner\n",
      "code\n",
      "coder\n",
      "coding\n",
      "coders\n",
      "university\n",
      "universities\n",
      "universal\n",
      "universe\n",
      "change\n",
      "changes\n",
      "changer\n",
      "changing\n"
     ]
    }
   ],
   "source": [
    "for w in inf_words :\n",
    "    print(w)"
   ]
  },
  {
   "cell_type": "code",
   "execution_count": 28,
   "id": "d2c698b4-0e84-4d51-9448-4a6ce5f90f37",
   "metadata": {},
   "outputs": [],
   "source": [
    "ps = PorterStemmer()"
   ]
  },
  {
   "cell_type": "code",
   "execution_count": 29,
   "id": "5bf0002a-bb93-47b6-bd0e-c1f55eee2ddf",
   "metadata": {},
   "outputs": [
    {
     "data": {
      "text/plain": [
       "<PorterStemmer>"
      ]
     },
     "execution_count": 29,
     "metadata": {},
     "output_type": "execute_result"
    }
   ],
   "source": [
    "ps"
   ]
  },
  {
   "cell_type": "code",
   "execution_count": 30,
   "id": "8eecd0c4-3fba-4c1c-88a5-44d2437ecb87",
   "metadata": {},
   "outputs": [
    {
     "data": {
      "text/plain": [
       "'run'"
      ]
     },
     "execution_count": 30,
     "metadata": {},
     "output_type": "execute_result"
    }
   ],
   "source": [
    "ps.stem(\"running\")"
   ]
  },
  {
   "cell_type": "code",
   "execution_count": 31,
   "id": "d2292c76-ebcb-415f-8ff6-8d3fc544450c",
   "metadata": {},
   "outputs": [
    {
     "data": {
      "text/plain": [
       "'write'"
      ]
     },
     "execution_count": 31,
     "metadata": {},
     "output_type": "execute_result"
    }
   ],
   "source": [
    "ps.stem(\"writes\")"
   ]
  },
  {
   "cell_type": "code",
   "execution_count": 32,
   "id": "0579682f-160f-4ced-a347-5594de328bfe",
   "metadata": {},
   "outputs": [],
   "source": [
    "import time"
   ]
  },
  {
   "cell_type": "markdown",
   "id": "5ad21991-ad71-4698-beb0-c33512decd6b",
   "metadata": {},
   "source": [
    "### PORTER STEMMER"
   ]
  },
  {
   "cell_type": "code",
   "execution_count": 34,
   "id": "e22e3d6b-763f-4611-95e9-d79c5f80742b",
   "metadata": {},
   "outputs": [
    {
     "name": "stdout",
     "output_type": "stream",
     "text": [
      "write ==> write\n",
      "writer ==> writer\n",
      "writing ==> write\n",
      "run ==> run\n",
      "running ==> run\n",
      "runner ==> runner\n",
      "code ==> code\n",
      "coder ==> coder\n",
      "coding ==> code\n",
      "coders ==> coder\n",
      "university ==> univers\n",
      "universities ==> univers\n",
      "universal ==> univers\n",
      "universe ==> univers\n",
      "change ==> chang\n",
      "changes ==> chang\n",
      "changer ==> changer\n",
      "changing ==> chang\n"
     ]
    }
   ],
   "source": [
    "for w in inf_words :\n",
    "    psw = ps.stem(w)\n",
    "    print(w, \"==>\",psw)\n",
    "    time.sleep(1)"
   ]
  },
  {
   "cell_type": "markdown",
   "id": "0da2d27f-b21b-4a0f-923a-19be44b91718",
   "metadata": {},
   "source": [
    "### SNOW BALL STEMMER "
   ]
  },
  {
   "cell_type": "code",
   "execution_count": 36,
   "id": "f05bc91a-f7a0-4377-95c1-acab007a926e",
   "metadata": {},
   "outputs": [],
   "source": [
    "from nltk.stem import SnowballStemmer"
   ]
  },
  {
   "cell_type": "code",
   "execution_count": 38,
   "id": "d9ca1f58-049e-42a4-a485-6b422d619c01",
   "metadata": {},
   "outputs": [],
   "source": [
    "sb = SnowballStemmer(\"english\")"
   ]
  },
  {
   "cell_type": "code",
   "execution_count": 39,
   "id": "37156a68-e11b-4c6e-8270-16284bcc26b5",
   "metadata": {},
   "outputs": [
    {
     "data": {
      "text/plain": [
       "<nltk.stem.snowball.SnowballStemmer at 0x194cb517560>"
      ]
     },
     "execution_count": 39,
     "metadata": {},
     "output_type": "execute_result"
    }
   ],
   "source": [
    "sb"
   ]
  },
  {
   "cell_type": "code",
   "execution_count": 40,
   "id": "64dbd7c3-b537-4bef-8288-80f3049a5e0a",
   "metadata": {},
   "outputs": [
    {
     "data": {
      "text/plain": [
       "'chang'"
      ]
     },
     "execution_count": 40,
     "metadata": {},
     "output_type": "execute_result"
    }
   ],
   "source": [
    "sb.stem(\"changing\")"
   ]
  },
  {
   "cell_type": "code",
   "execution_count": 42,
   "id": "1c65a0c2-8fb5-4dc6-a7ce-aa0d2f9340f7",
   "metadata": {},
   "outputs": [
    {
     "name": "stdout",
     "output_type": "stream",
     "text": [
      "write ==> write ==> write\n",
      "writer ==> writer ==> writer\n",
      "writing ==> write ==> write\n",
      "run ==> run ==> run\n",
      "running ==> run ==> run\n",
      "runner ==> runner ==> runner\n",
      "code ==> code ==> code\n",
      "coder ==> coder ==> coder\n",
      "coding ==> code ==> code\n",
      "coders ==> coder ==> coder\n",
      "university ==> univers ==> univers\n",
      "universities ==> univers ==> univers\n",
      "universal ==> univers ==> univers\n",
      "universe ==> univers ==> univers\n",
      "change ==> chang ==> chang\n",
      "changes ==> chang ==> chang\n",
      "changer ==> changer ==> changer\n",
      "changing ==> chang ==> chang\n"
     ]
    }
   ],
   "source": [
    "for w in inf_words :\n",
    "    psw = ps.stem(w)\n",
    "    sbw = sb.stem(w)\n",
    "    print(w , end = \" ==> \")\n",
    "    print(psw, end = \" ==> \")\n",
    "    print(sbw)\n",
    "    time.sleep(1)"
   ]
  },
  {
   "cell_type": "markdown",
   "id": "84118d62-3866-4f67-8121-7524e7b3930d",
   "metadata": {},
   "source": [
    "### LANCASTER STEMMMER"
   ]
  },
  {
   "cell_type": "code",
   "execution_count": 43,
   "id": "600a6769-6dd3-4d8a-b132-473828548c44",
   "metadata": {},
   "outputs": [],
   "source": [
    "ls = LancasterStemmer()"
   ]
  },
  {
   "cell_type": "code",
   "execution_count": 44,
   "id": "68c664ec-0321-4db9-bdcb-2854036a8a61",
   "metadata": {},
   "outputs": [
    {
     "data": {
      "text/plain": [
       "<LancasterStemmer>"
      ]
     },
     "execution_count": 44,
     "metadata": {},
     "output_type": "execute_result"
    }
   ],
   "source": [
    "ls"
   ]
  },
  {
   "cell_type": "code",
   "execution_count": 45,
   "id": "8509495b-573f-4e34-b959-8647e6ec9fa9",
   "metadata": {},
   "outputs": [
    {
     "data": {
      "text/plain": [
       "'coder'"
      ]
     },
     "execution_count": 45,
     "metadata": {},
     "output_type": "execute_result"
    }
   ],
   "source": [
    "ps.stem(\"coder\")"
   ]
  },
  {
   "cell_type": "code",
   "execution_count": 46,
   "id": "5858f1c1-c89f-497a-883a-1671c35c2c89",
   "metadata": {},
   "outputs": [
    {
     "data": {
      "text/plain": [
       "'cod'"
      ]
     },
     "execution_count": 46,
     "metadata": {},
     "output_type": "execute_result"
    }
   ],
   "source": [
    "ls.stem(\"coder\")"
   ]
  },
  {
   "cell_type": "code",
   "execution_count": 49,
   "id": "1dbffba9-6d27-4283-af09-f75d61364a87",
   "metadata": {},
   "outputs": [
    {
     "name": "stdout",
     "output_type": "stream",
     "text": [
      "write ==> write ==> write ==> writ\n",
      "\n",
      "writer ==> writer ==> writer ==> writ\n",
      "\n",
      "writing ==> write ==> write ==> writ\n",
      "\n",
      "run ==> run ==> run ==> run\n",
      "\n",
      "running ==> run ==> run ==> run\n",
      "\n",
      "runner ==> runner ==> runner ==> run\n",
      "\n",
      "code ==> code ==> code ==> cod\n",
      "\n",
      "coder ==> coder ==> coder ==> cod\n",
      "\n",
      "coding ==> code ==> code ==> cod\n",
      "\n",
      "coders ==> coder ==> coder ==> cod\n",
      "\n",
      "university ==> univers ==> univers ==> univers\n",
      "\n",
      "universities ==> univers ==> univers ==> univers\n",
      "\n",
      "universal ==> univers ==> univers ==> univers\n",
      "\n",
      "universe ==> univers ==> univers ==> univers\n",
      "\n",
      "change ==> chang ==> chang ==> chang\n",
      "\n",
      "changes ==> chang ==> chang ==> chang\n",
      "\n",
      "changer ==> changer ==> changer ==> chang\n",
      "\n",
      "changing ==> chang ==> chang ==> chang\n",
      "\n"
     ]
    }
   ],
   "source": [
    "for w in inf_words :\n",
    "    psw = ps.stem(w)\n",
    "    sbw = sb.stem(w)\n",
    "    lsw = ls.stem(w)\n",
    "    print(w , end = \" ==> \")\n",
    "    print(psw, end = \" ==> \")\n",
    "    print(sbw, end = \" ==> \")\n",
    "    print(lsw)\n",
    "    print()\n",
    "    time.sleep(1)"
   ]
  },
  {
   "cell_type": "code",
   "execution_count": null,
   "id": "89403fa3-7cf9-4953-b091-e4eff385d346",
   "metadata": {},
   "outputs": [],
   "source": []
  }
 ],
 "metadata": {
  "kernelspec": {
   "display_name": "Python 3 (ipykernel)",
   "language": "python",
   "name": "python3"
  },
  "language_info": {
   "codemirror_mode": {
    "name": "ipython",
    "version": 3
   },
   "file_extension": ".py",
   "mimetype": "text/x-python",
   "name": "python",
   "nbconvert_exporter": "python",
   "pygments_lexer": "ipython3",
   "version": "3.12.4"
  }
 },
 "nbformat": 4,
 "nbformat_minor": 5
}
