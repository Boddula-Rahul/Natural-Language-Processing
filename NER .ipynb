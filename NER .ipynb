{
 "cells": [
  {
   "cell_type": "code",
   "execution_count": 7,
   "id": "128e4509-f5c0-454c-8e3e-7e72c415f8db",
   "metadata": {},
   "outputs": [],
   "source": [
    "import nltk"
   ]
  },
  {
   "cell_type": "code",
   "execution_count": 8,
   "id": "54570c2a-1091-409d-81ff-a5d8587d6235",
   "metadata": {},
   "outputs": [],
   "source": [
    "from nltk.tokenize import word_tokenize"
   ]
  },
  {
   "cell_type": "code",
   "execution_count": 9,
   "id": "cf5d0230-916c-4a05-aaa2-93665e44b207",
   "metadata": {},
   "outputs": [],
   "source": [
    "from nltk.tag import pos_tag"
   ]
  },
  {
   "cell_type": "code",
   "execution_count": 10,
   "id": "48a6e3cc-68e4-45ed-88ab-06240a5f1700",
   "metadata": {},
   "outputs": [],
   "source": [
    "from nltk.chunk import ne_chunk"
   ]
  },
  {
   "cell_type": "code",
   "execution_count": 11,
   "id": "47fe641f-93ab-47bd-9553-ba2d93b80399",
   "metadata": {},
   "outputs": [
    {
     "name": "stderr",
     "output_type": "stream",
     "text": [
      "[nltk_data] Downloading package punkt to\n",
      "[nltk_data]     C:\\Users\\pc\\AppData\\Roaming\\nltk_data...\n",
      "[nltk_data]   Package punkt is already up-to-date!\n"
     ]
    },
    {
     "data": {
      "text/plain": [
       "True"
      ]
     },
     "execution_count": 11,
     "metadata": {},
     "output_type": "execute_result"
    }
   ],
   "source": [
    "nltk.download(\"punkt\")"
   ]
  },
  {
   "cell_type": "code",
   "execution_count": 12,
   "id": "5be43b83-6198-4c53-9289-1661fd113334",
   "metadata": {},
   "outputs": [
    {
     "name": "stderr",
     "output_type": "stream",
     "text": [
      "[nltk_data] Downloading package maxent_ne_chunker to\n",
      "[nltk_data]     C:\\Users\\pc\\AppData\\Roaming\\nltk_data...\n",
      "[nltk_data]   Package maxent_ne_chunker is already up-to-date!\n"
     ]
    },
    {
     "data": {
      "text/plain": [
       "True"
      ]
     },
     "execution_count": 12,
     "metadata": {},
     "output_type": "execute_result"
    }
   ],
   "source": [
    "nltk.download(\"maxent_ne_chunker\")"
   ]
  },
  {
   "cell_type": "code",
   "execution_count": 13,
   "id": "5812c752-95c4-4fbc-9ab5-07627f26c1a6",
   "metadata": {},
   "outputs": [
    {
     "name": "stderr",
     "output_type": "stream",
     "text": [
      "[nltk_data] Downloading package words to\n",
      "[nltk_data]     C:\\Users\\pc\\AppData\\Roaming\\nltk_data...\n",
      "[nltk_data]   Package words is already up-to-date!\n"
     ]
    },
    {
     "data": {
      "text/plain": [
       "True"
      ]
     },
     "execution_count": 13,
     "metadata": {},
     "output_type": "execute_result"
    }
   ],
   "source": [
    "nltk.download(\"words\")"
   ]
  },
  {
   "cell_type": "code",
   "execution_count": 14,
   "id": "5f16c2e7-54e8-4bb4-a662-718163db9d93",
   "metadata": {},
   "outputs": [
    {
     "name": "stderr",
     "output_type": "stream",
     "text": [
      "[nltk_data] Downloading package averaged_perceptron_tagger to\n",
      "[nltk_data]     C:\\Users\\pc\\AppData\\Roaming\\nltk_data...\n",
      "[nltk_data]   Package averaged_perceptron_tagger is already up-to-\n",
      "[nltk_data]       date!\n"
     ]
    },
    {
     "data": {
      "text/plain": [
       "True"
      ]
     },
     "execution_count": 14,
     "metadata": {},
     "output_type": "execute_result"
    }
   ],
   "source": [
    "nltk.download(\"averaged_perceptron_tagger\")"
   ]
  },
  {
   "cell_type": "code",
   "execution_count": 15,
   "id": "a8eb1a96-e089-4cb3-a7f5-34b3dd9037b5",
   "metadata": {},
   "outputs": [],
   "source": [
    "sent = \"\"\" Apple CEO Tim Cook announces ‘newest family member’ for February 19\n",
    "If the launch is indeed for the iPhone SE 4, Apple aims to generate buzz and \n",
    "attract attention before the start of MWC 2025\"\"\""
   ]
  },
  {
   "cell_type": "code",
   "execution_count": 16,
   "id": "c102692b-fe66-4870-b7b0-2a1a3074f27f",
   "metadata": {},
   "outputs": [
    {
     "data": {
      "text/plain": [
       "' Apple CEO Tim Cook announces ‘newest family member’ for February 19\\nIf the launch is indeed for the iPhone SE 4, Apple aims to generate buzz and \\nattract attention before the start of MWC 2025'"
      ]
     },
     "execution_count": 16,
     "metadata": {},
     "output_type": "execute_result"
    }
   ],
   "source": [
    "sent"
   ]
  },
  {
   "cell_type": "code",
   "execution_count": 17,
   "id": "da3731fe-67da-42a1-8f48-a3097f09f180",
   "metadata": {},
   "outputs": [],
   "source": [
    "words = word_tokenize(sent)"
   ]
  },
  {
   "cell_type": "code",
   "execution_count": 18,
   "id": "7021653a-1da2-4e62-bea3-1f38b090c9f5",
   "metadata": {},
   "outputs": [
    {
     "data": {
      "text/plain": [
       "['Apple',\n",
       " 'CEO',\n",
       " 'Tim',\n",
       " 'Cook',\n",
       " 'announces',\n",
       " '‘',\n",
       " 'newest',\n",
       " 'family',\n",
       " 'member',\n",
       " '’',\n",
       " 'for',\n",
       " 'February',\n",
       " '19',\n",
       " 'If',\n",
       " 'the',\n",
       " 'launch',\n",
       " 'is',\n",
       " 'indeed',\n",
       " 'for',\n",
       " 'the',\n",
       " 'iPhone',\n",
       " 'SE',\n",
       " '4',\n",
       " ',',\n",
       " 'Apple',\n",
       " 'aims',\n",
       " 'to',\n",
       " 'generate',\n",
       " 'buzz',\n",
       " 'and',\n",
       " 'attract',\n",
       " 'attention',\n",
       " 'before',\n",
       " 'the',\n",
       " 'start',\n",
       " 'of',\n",
       " 'MWC',\n",
       " '2025']"
      ]
     },
     "execution_count": 18,
     "metadata": {},
     "output_type": "execute_result"
    }
   ],
   "source": [
    "words"
   ]
  },
  {
   "cell_type": "code",
   "execution_count": 20,
   "id": "2e053e86-70a3-41b6-a350-ae88b66d1429",
   "metadata": {},
   "outputs": [],
   "source": [
    "tag = pos_tag(words)"
   ]
  },
  {
   "cell_type": "code",
   "execution_count": 21,
   "id": "178e1274-9094-48f0-aa45-1ca4d6b759b9",
   "metadata": {},
   "outputs": [
    {
     "data": {
      "text/plain": [
       "[('Apple', 'NNP'),\n",
       " ('CEO', 'NNP'),\n",
       " ('Tim', 'NNP'),\n",
       " ('Cook', 'NNP'),\n",
       " ('announces', 'VBZ'),\n",
       " ('‘', 'NNP'),\n",
       " ('newest', 'JJS'),\n",
       " ('family', 'NN'),\n",
       " ('member', 'NN'),\n",
       " ('’', 'NN'),\n",
       " ('for', 'IN'),\n",
       " ('February', 'NNP'),\n",
       " ('19', 'CD'),\n",
       " ('If', 'IN'),\n",
       " ('the', 'DT'),\n",
       " ('launch', 'NN'),\n",
       " ('is', 'VBZ'),\n",
       " ('indeed', 'RB'),\n",
       " ('for', 'IN'),\n",
       " ('the', 'DT'),\n",
       " ('iPhone', 'NN'),\n",
       " ('SE', 'NNP'),\n",
       " ('4', 'CD'),\n",
       " (',', ','),\n",
       " ('Apple', 'NNP'),\n",
       " ('aims', 'VBZ'),\n",
       " ('to', 'TO'),\n",
       " ('generate', 'VB'),\n",
       " ('buzz', 'NN'),\n",
       " ('and', 'CC'),\n",
       " ('attract', 'JJ'),\n",
       " ('attention', 'NN'),\n",
       " ('before', 'IN'),\n",
       " ('the', 'DT'),\n",
       " ('start', 'NN'),\n",
       " ('of', 'IN'),\n",
       " ('MWC', 'NNP'),\n",
       " ('2025', 'CD')]"
      ]
     },
     "execution_count": 21,
     "metadata": {},
     "output_type": "execute_result"
    }
   ],
   "source": [
    "tag"
   ]
  },
  {
   "cell_type": "code",
   "execution_count": 22,
   "id": "52af628b-1fb2-487b-aacf-89506c3ea748",
   "metadata": {},
   "outputs": [],
   "source": [
    "ner_words = ne_chunk(tag)"
   ]
  },
  {
   "cell_type": "code",
   "execution_count": 23,
   "id": "12843c94-4d59-473d-a262-ff8862cea138",
   "metadata": {},
   "outputs": [
    {
     "name": "stdout",
     "output_type": "stream",
     "text": [
      "(S\n",
      "  (PERSON Apple/NNP)\n",
      "  (ORGANIZATION CEO/NNP Tim/NNP Cook/NNP)\n",
      "  announces/VBZ\n",
      "  ‘/NNP\n",
      "  newest/JJS\n",
      "  family/NN\n",
      "  member/NN\n",
      "  ’/NN\n",
      "  for/IN\n",
      "  February/NNP\n",
      "  19/CD\n",
      "  If/IN\n",
      "  the/DT\n",
      "  launch/NN\n",
      "  is/VBZ\n",
      "  indeed/RB\n",
      "  for/IN\n",
      "  the/DT\n",
      "  (ORGANIZATION iPhone/NN)\n",
      "  SE/NNP\n",
      "  4/CD\n",
      "  ,/,\n",
      "  (PERSON Apple/NNP)\n",
      "  aims/VBZ\n",
      "  to/TO\n",
      "  generate/VB\n",
      "  buzz/NN\n",
      "  and/CC\n",
      "  attract/JJ\n",
      "  attention/NN\n",
      "  before/IN\n",
      "  the/DT\n",
      "  start/NN\n",
      "  of/IN\n",
      "  (ORGANIZATION MWC/NNP)\n",
      "  2025/CD)\n"
     ]
    }
   ],
   "source": [
    "print(ner_words)"
   ]
  },
  {
   "cell_type": "code",
   "execution_count": 25,
   "id": "82d3a9c2-b30a-494b-a9ea-cbbe74f02299",
   "metadata": {},
   "outputs": [],
   "source": [
    "text = \"Elon Musk is the CEO of Tesla and SpaceX and he was born in South Africa\""
   ]
  },
  {
   "cell_type": "code",
   "execution_count": 26,
   "id": "3a726ab3-b8d4-40e7-aa20-a1d1378a1f9b",
   "metadata": {},
   "outputs": [
    {
     "data": {
      "text/plain": [
       "'Elon Musk is the CEO of Tesla and SpaceX and he was born in South Africa'"
      ]
     },
     "execution_count": 26,
     "metadata": {},
     "output_type": "execute_result"
    }
   ],
   "source": [
    "text"
   ]
  },
  {
   "cell_type": "code",
   "execution_count": 27,
   "id": "47c62916-d89c-4f5e-8f4e-adfef7f1bbe8",
   "metadata": {},
   "outputs": [],
   "source": [
    "w = word_tokenize(text)"
   ]
  },
  {
   "cell_type": "code",
   "execution_count": 28,
   "id": "00d64009-3fe4-4c36-93dc-dc1e55ef9980",
   "metadata": {},
   "outputs": [
    {
     "data": {
      "text/plain": [
       "['Elon',\n",
       " 'Musk',\n",
       " 'is',\n",
       " 'the',\n",
       " 'CEO',\n",
       " 'of',\n",
       " 'Tesla',\n",
       " 'and',\n",
       " 'SpaceX',\n",
       " 'and',\n",
       " 'he',\n",
       " 'was',\n",
       " 'born',\n",
       " 'in',\n",
       " 'South',\n",
       " 'Africa']"
      ]
     },
     "execution_count": 28,
     "metadata": {},
     "output_type": "execute_result"
    }
   ],
   "source": [
    "w"
   ]
  },
  {
   "cell_type": "code",
   "execution_count": 29,
   "id": "a6f30df9-33a1-4fdf-9a10-dd92a89684a8",
   "metadata": {},
   "outputs": [],
   "source": [
    "w_tag = pos_tag(w)"
   ]
  },
  {
   "cell_type": "code",
   "execution_count": 30,
   "id": "329cf1a1-d704-4a7c-b4b8-1a645fb7218f",
   "metadata": {},
   "outputs": [
    {
     "data": {
      "text/plain": [
       "[('Elon', 'NNP'),\n",
       " ('Musk', 'NNP'),\n",
       " ('is', 'VBZ'),\n",
       " ('the', 'DT'),\n",
       " ('CEO', 'NN'),\n",
       " ('of', 'IN'),\n",
       " ('Tesla', 'NNP'),\n",
       " ('and', 'CC'),\n",
       " ('SpaceX', 'NNP'),\n",
       " ('and', 'CC'),\n",
       " ('he', 'PRP'),\n",
       " ('was', 'VBD'),\n",
       " ('born', 'VBN'),\n",
       " ('in', 'IN'),\n",
       " ('South', 'NNP'),\n",
       " ('Africa', 'NNP')]"
      ]
     },
     "execution_count": 30,
     "metadata": {},
     "output_type": "execute_result"
    }
   ],
   "source": [
    "w_tag"
   ]
  },
  {
   "cell_type": "code",
   "execution_count": 31,
   "id": "adfc5738-9eb0-43d3-9332-6038adbe8638",
   "metadata": {},
   "outputs": [],
   "source": [
    "res = ne_chunk(w_tag)"
   ]
  },
  {
   "cell_type": "code",
   "execution_count": 32,
   "id": "1562cf4d-8550-45b0-8d3c-4417a0771849",
   "metadata": {},
   "outputs": [
    {
     "name": "stdout",
     "output_type": "stream",
     "text": [
      "(S\n",
      "  (PERSON Elon/NNP)\n",
      "  (ORGANIZATION Musk/NNP)\n",
      "  is/VBZ\n",
      "  the/DT\n",
      "  (ORGANIZATION CEO/NN of/IN Tesla/NNP)\n",
      "  and/CC\n",
      "  (ORGANIZATION SpaceX/NNP)\n",
      "  and/CC\n",
      "  he/PRP\n",
      "  was/VBD\n",
      "  born/VBN\n",
      "  in/IN\n",
      "  (GPE South/NNP Africa/NNP))\n"
     ]
    }
   ],
   "source": [
    "print(res)"
   ]
  },
  {
   "cell_type": "code",
   "execution_count": null,
   "id": "048c18c6-ba53-4606-b622-2065b5a2d102",
   "metadata": {},
   "outputs": [],
   "source": []
  }
 ],
 "metadata": {
  "kernelspec": {
   "display_name": "Python 3 (ipykernel)",
   "language": "python",
   "name": "python3"
  },
  "language_info": {
   "codemirror_mode": {
    "name": "ipython",
    "version": 3
   },
   "file_extension": ".py",
   "mimetype": "text/x-python",
   "name": "python",
   "nbconvert_exporter": "python",
   "pygments_lexer": "ipython3",
   "version": "3.12.4"
  }
 },
 "nbformat": 4,
 "nbformat_minor": 5
}
