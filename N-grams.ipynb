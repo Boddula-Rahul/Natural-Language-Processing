{
 "cells": [
  {
   "cell_type": "code",
   "execution_count": 4,
   "id": "ef8b590a-efb5-42f4-b5dd-3304218cfacf",
   "metadata": {},
   "outputs": [],
   "source": [
    "from nltk import ngrams"
   ]
  },
  {
   "cell_type": "code",
   "execution_count": 5,
   "id": "85e78048-c697-4e63-b465-ea4c4c60b68f",
   "metadata": {},
   "outputs": [],
   "source": [
    "sent = \"WELCOME TO PYTHON CLASS WE ARE DEALING WITH NLP\""
   ]
  },
  {
   "cell_type": "code",
   "execution_count": 6,
   "id": "74b4ceb2-60ac-4299-a443-9d829c066cd6",
   "metadata": {},
   "outputs": [],
   "source": [
    "res = sent.split()"
   ]
  },
  {
   "cell_type": "code",
   "execution_count": 7,
   "id": "f98f3f96-7c15-4310-91af-b04c159a0e2a",
   "metadata": {},
   "outputs": [
    {
     "data": {
      "text/plain": [
       "['WELCOME', 'TO', 'PYTHON', 'CLASS', 'WE', 'ARE', 'DEALING', 'WITH', 'NLP']"
      ]
     },
     "execution_count": 7,
     "metadata": {},
     "output_type": "execute_result"
    }
   ],
   "source": [
    "res"
   ]
  },
  {
   "cell_type": "code",
   "execution_count": 10,
   "id": "561fc4e9-afec-4648-9350-85a1808f7432",
   "metadata": {},
   "outputs": [
    {
     "data": {
      "text/plain": [
       "[('W', 'E'),\n",
       " ('E', 'L'),\n",
       " ('L', 'C'),\n",
       " ('C', 'O'),\n",
       " ('O', 'M'),\n",
       " ('M', 'E'),\n",
       " ('E', ' '),\n",
       " (' ', 'T'),\n",
       " ('T', 'O'),\n",
       " ('O', ' '),\n",
       " (' ', 'P'),\n",
       " ('P', 'Y'),\n",
       " ('Y', 'T'),\n",
       " ('T', 'H'),\n",
       " ('H', 'O'),\n",
       " ('O', 'N'),\n",
       " ('N', ' '),\n",
       " (' ', 'C'),\n",
       " ('C', 'L'),\n",
       " ('L', 'A'),\n",
       " ('A', 'S'),\n",
       " ('S', 'S'),\n",
       " ('S', ' '),\n",
       " (' ', 'W'),\n",
       " ('W', 'E'),\n",
       " ('E', ' '),\n",
       " (' ', 'A'),\n",
       " ('A', 'R'),\n",
       " ('R', 'E'),\n",
       " ('E', ' '),\n",
       " (' ', 'D'),\n",
       " ('D', 'E'),\n",
       " ('E', 'A'),\n",
       " ('A', 'L'),\n",
       " ('L', 'I'),\n",
       " ('I', 'N'),\n",
       " ('N', 'G'),\n",
       " ('G', ' '),\n",
       " (' ', 'W'),\n",
       " ('W', 'I'),\n",
       " ('I', 'T'),\n",
       " ('T', 'H'),\n",
       " ('H', ' '),\n",
       " (' ', 'N'),\n",
       " ('N', 'L'),\n",
       " ('L', 'P')]"
      ]
     },
     "execution_count": 10,
     "metadata": {},
     "output_type": "execute_result"
    }
   ],
   "source": [
    "list(ngrams(sent, 2) )"
   ]
  },
  {
   "cell_type": "code",
   "execution_count": 12,
   "id": "c17803d2-74c4-410a-88e2-bf6b808cbedb",
   "metadata": {},
   "outputs": [
    {
     "data": {
      "text/plain": [
       "[('WELCOME', 'TO'),\n",
       " ('TO', 'PYTHON'),\n",
       " ('PYTHON', 'CLASS'),\n",
       " ('CLASS', 'WE'),\n",
       " ('WE', 'ARE'),\n",
       " ('ARE', 'DEALING'),\n",
       " ('DEALING', 'WITH'),\n",
       " ('WITH', 'NLP')]"
      ]
     },
     "execution_count": 12,
     "metadata": {},
     "output_type": "execute_result"
    }
   ],
   "source": [
    "list(ngrams(res,2) )"
   ]
  },
  {
   "cell_type": "code",
   "execution_count": 13,
   "id": "5389e8fc-05a6-4709-a45e-c8f41f002a44",
   "metadata": {},
   "outputs": [
    {
     "data": {
      "text/plain": [
       "[('WELCOME', 'TO', 'PYTHON'),\n",
       " ('TO', 'PYTHON', 'CLASS'),\n",
       " ('PYTHON', 'CLASS', 'WE'),\n",
       " ('CLASS', 'WE', 'ARE'),\n",
       " ('WE', 'ARE', 'DEALING'),\n",
       " ('ARE', 'DEALING', 'WITH'),\n",
       " ('DEALING', 'WITH', 'NLP')]"
      ]
     },
     "execution_count": 13,
     "metadata": {},
     "output_type": "execute_result"
    }
   ],
   "source": [
    "list(ngrams(res, 3))"
   ]
  },
  {
   "cell_type": "code",
   "execution_count": 14,
   "id": "19478a40-70c0-4663-96f6-20f5af2db25c",
   "metadata": {},
   "outputs": [
    {
     "data": {
      "text/plain": [
       "[('WELCOME', 'TO', 'PYTHON', 'CLASS'),\n",
       " ('TO', 'PYTHON', 'CLASS', 'WE'),\n",
       " ('PYTHON', 'CLASS', 'WE', 'ARE'),\n",
       " ('CLASS', 'WE', 'ARE', 'DEALING'),\n",
       " ('WE', 'ARE', 'DEALING', 'WITH'),\n",
       " ('ARE', 'DEALING', 'WITH', 'NLP')]"
      ]
     },
     "execution_count": 14,
     "metadata": {},
     "output_type": "execute_result"
    }
   ],
   "source": [
    "list(ngrams(res, 4))"
   ]
  },
  {
   "cell_type": "code",
   "execution_count": null,
   "id": "f48d60dc-5321-4e8d-a8cd-e5daa782ebf9",
   "metadata": {},
   "outputs": [],
   "source": []
  }
 ],
 "metadata": {
  "kernelspec": {
   "display_name": "Python 3 (ipykernel)",
   "language": "python",
   "name": "python3"
  },
  "language_info": {
   "codemirror_mode": {
    "name": "ipython",
    "version": 3
   },
   "file_extension": ".py",
   "mimetype": "text/x-python",
   "name": "python",
   "nbconvert_exporter": "python",
   "pygments_lexer": "ipython3",
   "version": "3.12.4"
  }
 },
 "nbformat": 4,
 "nbformat_minor": 5
}
