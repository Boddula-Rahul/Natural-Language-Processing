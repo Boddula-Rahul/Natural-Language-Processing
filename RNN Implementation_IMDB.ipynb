{
 "cells": [
  {
   "cell_type": "code",
   "execution_count": 10,
   "id": "a8ebc312-1ef4-4d04-8a50-91bac7c27c2d",
   "metadata": {},
   "outputs": [],
   "source": [
    "import numpy as np"
   ]
  },
  {
   "cell_type": "code",
   "execution_count": 11,
   "id": "f651300f-c3cb-4a6b-9f6e-766a221b76fe",
   "metadata": {},
   "outputs": [],
   "source": [
    "import pandas as pd"
   ]
  },
  {
   "cell_type": "code",
   "execution_count": 12,
   "id": "631c441c-6cb9-4d4e-96b4-c141729c2115",
   "metadata": {},
   "outputs": [],
   "source": [
    "import tensorflow as tf"
   ]
  },
  {
   "cell_type": "code",
   "execution_count": 13,
   "id": "c2905378-7eb1-4e37-b642-75943b22ad69",
   "metadata": {},
   "outputs": [],
   "source": [
    "from tensorflow.keras.datasets import imdb"
   ]
  },
  {
   "cell_type": "code",
   "execution_count": 14,
   "id": "cb1c5af0-6945-4f6b-9262-8b36b5407b35",
   "metadata": {},
   "outputs": [],
   "source": [
    "from tensorflow.keras.models import Sequential"
   ]
  },
  {
   "cell_type": "code",
   "execution_count": 15,
   "id": "f0ad2091-a8ea-40e4-9d95-651d76c72428",
   "metadata": {},
   "outputs": [],
   "source": [
    "from tensorflow.keras.layers import Embedding, SimpleRNN, Dense"
   ]
  },
  {
   "cell_type": "code",
   "execution_count": 25,
   "id": "fc918612-56be-43cf-b476-e45e87502f30",
   "metadata": {},
   "outputs": [],
   "source": [
    "from tensorflow.keras.preprocessing.sequence import pad_sequences"
   ]
  },
  {
   "cell_type": "code",
   "execution_count": 16,
   "id": "0f29ba03-af2c-4384-9cbb-0a4aca71b193",
   "metadata": {},
   "outputs": [],
   "source": [
    "input_size = 10000"
   ]
  },
  {
   "cell_type": "code",
   "execution_count": 17,
   "id": "a323f3f4-4c57-460f-843e-69209a999ed4",
   "metadata": {},
   "outputs": [],
   "source": [
    "max_len = 200"
   ]
  },
  {
   "cell_type": "code",
   "execution_count": 18,
   "id": "dc193ab3-e786-4470-8af6-9712ef95c19e",
   "metadata": {},
   "outputs": [
    {
     "name": "stdout",
     "output_type": "stream",
     "text": [
      "Downloading data from https://storage.googleapis.com/tensorflow/tf-keras-datasets/imdb.npz\n",
      "\u001b[1m17464789/17464789\u001b[0m \u001b[32m━━━━━━━━━━━━━━━━━━━━\u001b[0m\u001b[37m\u001b[0m \u001b[1m21s\u001b[0m 1us/step\n"
     ]
    }
   ],
   "source": [
    "(X_train,y_train),(X_test,y_test) = imdb.load_data(num_words=input_size)"
   ]
  },
  {
   "cell_type": "code",
   "execution_count": 19,
   "id": "185d571d-7124-4cf7-b8e0-5bf3c6367ddf",
   "metadata": {},
   "outputs": [
    {
     "data": {
      "text/plain": [
       "(25000,)"
      ]
     },
     "execution_count": 19,
     "metadata": {},
     "output_type": "execute_result"
    }
   ],
   "source": [
    "X_train.shape"
   ]
  },
  {
   "cell_type": "code",
   "execution_count": 20,
   "id": "b55c6dcb-2927-4a85-a5c8-7edb9adbfbef",
   "metadata": {},
   "outputs": [
    {
     "data": {
      "text/plain": [
       "(25000,)"
      ]
     },
     "execution_count": 20,
     "metadata": {},
     "output_type": "execute_result"
    }
   ],
   "source": [
    "X_test.shape"
   ]
  },
  {
   "cell_type": "code",
   "execution_count": 21,
   "id": "06745d20-2263-4a77-bf8b-c707c0e28a44",
   "metadata": {},
   "outputs": [
    {
     "data": {
      "text/plain": [
       "(25000,)"
      ]
     },
     "execution_count": 21,
     "metadata": {},
     "output_type": "execute_result"
    }
   ],
   "source": [
    "y_train.shape"
   ]
  },
  {
   "cell_type": "code",
   "execution_count": 22,
   "id": "989cbb48-b71c-40fc-a127-33c392743132",
   "metadata": {},
   "outputs": [
    {
     "data": {
      "text/plain": [
       "(25000,)"
      ]
     },
     "execution_count": 22,
     "metadata": {},
     "output_type": "execute_result"
    }
   ],
   "source": [
    "y_test.shape"
   ]
  },
  {
   "cell_type": "code",
   "execution_count": 26,
   "id": "7c2774ef-c564-4883-8bb5-b9d898369e1e",
   "metadata": {},
   "outputs": [],
   "source": [
    "X_train = pad_sequences(X_train, maxlen = max_len, padding = \"post\", truncating=\"post\")"
   ]
  },
  {
   "cell_type": "code",
   "execution_count": 27,
   "id": "0eb51b98-b26a-44b7-aa32-0f6e1c6a3b7f",
   "metadata": {},
   "outputs": [],
   "source": [
    "X_test = pad_sequences(X_test, maxlen = max_len, padding = \"post\", truncating=\"post\")"
   ]
  },
  {
   "cell_type": "code",
   "execution_count": 29,
   "id": "658ab0a1-4c1b-4f76-acd3-17653ef2c396",
   "metadata": {},
   "outputs": [
    {
     "data": {
      "text/plain": [
       "(25000, 200)"
      ]
     },
     "execution_count": 29,
     "metadata": {},
     "output_type": "execute_result"
    }
   ],
   "source": [
    "X_train.shape"
   ]
  },
  {
   "cell_type": "code",
   "execution_count": 30,
   "id": "ae62e912-8d38-4754-a7c0-51c70b72027a",
   "metadata": {},
   "outputs": [
    {
     "data": {
      "text/plain": [
       "(25000, 200)"
      ]
     },
     "execution_count": 30,
     "metadata": {},
     "output_type": "execute_result"
    }
   ],
   "source": [
    "X_test.shape"
   ]
  },
  {
   "cell_type": "code",
   "execution_count": 38,
   "id": "2b134bdf-572b-4cb2-b016-329755409d73",
   "metadata": {},
   "outputs": [],
   "source": [
    "smodel = Sequential()"
   ]
  },
  {
   "cell_type": "code",
   "execution_count": 39,
   "id": "514e2f43-b08e-46d0-aeec-1eac831b315c",
   "metadata": {},
   "outputs": [],
   "source": [
    "smodel.add(Embedding(input_dim=10000,output_dim=32,input_length = max_len))"
   ]
  },
  {
   "cell_type": "code",
   "execution_count": 40,
   "id": "d5bcc5fb-3876-472d-ae31-d93f4ff225b6",
   "metadata": {},
   "outputs": [],
   "source": [
    "smodel.add(SimpleRNN(32, activation = \"tanh\"))"
   ]
  },
  {
   "cell_type": "code",
   "execution_count": 41,
   "id": "c55de386-16ff-42b4-9b2b-82e108aac01d",
   "metadata": {},
   "outputs": [],
   "source": [
    "smodel.add(Dense(1, activation = \"relu\" ))"
   ]
  },
  {
   "cell_type": "code",
   "execution_count": 46,
   "id": "f3e3a0a1-ab60-4af0-b11c-28ce29d10dc8",
   "metadata": {},
   "outputs": [],
   "source": [
    "smodel.compile(optimizer = \"adam\", loss = \"binary_crossentropy\", metrics = [\"accuracy\"])"
   ]
  },
  {
   "cell_type": "code",
   "execution_count": 47,
   "id": "0dd67398-4642-4059-ad46-77bdd49d28e8",
   "metadata": {},
   "outputs": [
    {
     "name": "stdout",
     "output_type": "stream",
     "text": [
      "Epoch 1/5\n",
      "\u001b[1m391/391\u001b[0m \u001b[32m━━━━━━━━━━━━━━━━━━━━\u001b[0m\u001b[37m\u001b[0m \u001b[1m38s\u001b[0m 80ms/step - accuracy: 0.4969 - loss: 1.0764 - val_accuracy: 0.5045 - val_loss: 0.6996\n",
      "Epoch 2/5\n",
      "\u001b[1m391/391\u001b[0m \u001b[32m━━━━━━━━━━━━━━━━━━━━\u001b[0m\u001b[37m\u001b[0m \u001b[1m30s\u001b[0m 76ms/step - accuracy: 0.6182 - loss: 0.6362 - val_accuracy: 0.5141 - val_loss: 0.7750\n",
      "Epoch 3/5\n",
      "\u001b[1m391/391\u001b[0m \u001b[32m━━━━━━━━━━━━━━━━━━━━\u001b[0m\u001b[37m\u001b[0m \u001b[1m31s\u001b[0m 78ms/step - accuracy: 0.7307 - loss: 0.4730 - val_accuracy: 0.5157 - val_loss: 1.0564\n",
      "Epoch 4/5\n",
      "\u001b[1m391/391\u001b[0m \u001b[32m━━━━━━━━━━━━━━━━━━━━\u001b[0m\u001b[37m\u001b[0m \u001b[1m31s\u001b[0m 78ms/step - accuracy: 0.7919 - loss: 0.3686 - val_accuracy: 0.5121 - val_loss: 1.6155\n",
      "Epoch 5/5\n",
      "\u001b[1m391/391\u001b[0m \u001b[32m━━━━━━━━━━━━━━━━━━━━\u001b[0m\u001b[37m\u001b[0m \u001b[1m30s\u001b[0m 77ms/step - accuracy: 0.7775 - loss: 0.3940 - val_accuracy: 0.5033 - val_loss: 1.7999\n"
     ]
    },
    {
     "data": {
      "text/plain": [
       "<keras.src.callbacks.history.History at 0x1d723f244a0>"
      ]
     },
     "execution_count": 47,
     "metadata": {},
     "output_type": "execute_result"
    }
   ],
   "source": [
    "smodel.fit(X_train,y_train, epochs = 5, batch_size = 64, validation_data = (X_test,y_test) )"
   ]
  },
  {
   "cell_type": "code",
   "execution_count": 48,
   "id": "ae5cb0f2-d3b7-4aa6-a2b0-7974fb36333d",
   "metadata": {},
   "outputs": [
    {
     "name": "stdout",
     "output_type": "stream",
     "text": [
      "\u001b[1m782/782\u001b[0m \u001b[32m━━━━━━━━━━━━━━━━━━━━\u001b[0m\u001b[37m\u001b[0m \u001b[1m11s\u001b[0m 15ms/step - accuracy: 0.5031 - loss: 1.7834\n"
     ]
    },
    {
     "data": {
      "text/plain": [
       "[1.7998970746994019, 0.503279983997345]"
      ]
     },
     "execution_count": 48,
     "metadata": {},
     "output_type": "execute_result"
    }
   ],
   "source": [
    "smodel.evaluate(X_test,y_test)"
   ]
  },
  {
   "cell_type": "code",
   "execution_count": null,
   "id": "5e209e5c-139c-489c-8603-7aa56d82fd42",
   "metadata": {},
   "outputs": [],
   "source": []
  }
 ],
 "metadata": {
  "kernelspec": {
   "display_name": "Python 3 (ipykernel)",
   "language": "python",
   "name": "python3"
  },
  "language_info": {
   "codemirror_mode": {
    "name": "ipython",
    "version": 3
   },
   "file_extension": ".py",
   "mimetype": "text/x-python",
   "name": "python",
   "nbconvert_exporter": "python",
   "pygments_lexer": "ipython3",
   "version": "3.12.4"
  }
 },
 "nbformat": 4,
 "nbformat_minor": 5
}
