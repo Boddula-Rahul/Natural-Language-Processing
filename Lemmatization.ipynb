{
 "cells": [
  {
   "cell_type": "code",
   "execution_count": 1,
   "id": "4f10ee36-325f-43c8-85cb-971b460fe39d",
   "metadata": {},
   "outputs": [],
   "source": [
    "import time"
   ]
  },
  {
   "cell_type": "code",
   "execution_count": 2,
   "id": "232662bd-c0b6-46b2-b922-e6b06b4cc974",
   "metadata": {},
   "outputs": [],
   "source": [
    "import nltk"
   ]
  },
  {
   "cell_type": "code",
   "execution_count": 3,
   "id": "153a2f75-44f4-4e2c-8fa0-fe7f51a6cfd3",
   "metadata": {},
   "outputs": [],
   "source": [
    "words = [\"code\", \"coder\",\"coding\", \"codes\", \"listening\",\"listener\",\"listen\",\n",
    "        \"run\",\"runner\",\"running\",\"runs\",\"ran\", \"write\",\"writer\",\"writing\",\"writes\",\n",
    "        \"university\",\"universities\", \"universe\", \"universal\"]"
   ]
  },
  {
   "cell_type": "code",
   "execution_count": 4,
   "id": "8b9f64f1-bef1-49d8-88a2-8f12afc708ce",
   "metadata": {},
   "outputs": [
    {
     "data": {
      "text/plain": [
       "['code',\n",
       " 'coder',\n",
       " 'coding',\n",
       " 'codes',\n",
       " 'listening',\n",
       " 'listener',\n",
       " 'listen',\n",
       " 'run',\n",
       " 'runner',\n",
       " 'running',\n",
       " 'runs',\n",
       " 'ran',\n",
       " 'write',\n",
       " 'writer',\n",
       " 'writing',\n",
       " 'writes',\n",
       " 'university',\n",
       " 'universities',\n",
       " 'universe',\n",
       " 'universal']"
      ]
     },
     "execution_count": 4,
     "metadata": {},
     "output_type": "execute_result"
    }
   ],
   "source": [
    "words"
   ]
  },
  {
   "cell_type": "code",
   "execution_count": 5,
   "id": "247dfc15-c1b4-41a1-809c-dcb55b045bd4",
   "metadata": {},
   "outputs": [],
   "source": [
    "from nltk.stem import PorterStemmer"
   ]
  },
  {
   "cell_type": "code",
   "execution_count": 6,
   "id": "201ba26e-9951-4b04-b1e1-32316835988c",
   "metadata": {},
   "outputs": [],
   "source": [
    "ps = PorterStemmer()"
   ]
  },
  {
   "cell_type": "code",
   "execution_count": 7,
   "id": "96680245-254a-4f4f-8719-f9176618b8a4",
   "metadata": {},
   "outputs": [
    {
     "name": "stdout",
     "output_type": "stream",
     "text": [
      "code ==> code\n",
      "coder ==> coder\n",
      "coding ==> code\n",
      "codes ==> code\n",
      "listening ==> listen\n",
      "listener ==> listen\n",
      "listen ==> listen\n",
      "run ==> run\n",
      "runner ==> runner\n",
      "running ==> run\n",
      "runs ==> run\n",
      "ran ==> ran\n",
      "write ==> write\n",
      "writer ==> writer\n",
      "writing ==> write\n",
      "writes ==> write\n",
      "university ==> univers\n",
      "universities ==> univers\n",
      "universe ==> univers\n",
      "universal ==> univers\n"
     ]
    }
   ],
   "source": [
    "for w in words :\n",
    "    print(w,end = \" ==> \")\n",
    "    psw = ps.stem(w)\n",
    "    print(psw)\n",
    "    time.sleep(1)"
   ]
  },
  {
   "cell_type": "code",
   "execution_count": 8,
   "id": "27ec1614-5d6d-43f2-8cc9-23752a33a247",
   "metadata": {},
   "outputs": [],
   "source": [
    "from nltk.stem import SnowballStemmer"
   ]
  },
  {
   "cell_type": "code",
   "execution_count": 9,
   "id": "ddaa8680-970e-4bd2-84c4-89efd05dc114",
   "metadata": {},
   "outputs": [],
   "source": [
    "sb = SnowballStemmer(\"english\")"
   ]
  },
  {
   "cell_type": "code",
   "execution_count": 10,
   "id": "01911631-730a-4247-933c-27a93649fca5",
   "metadata": {},
   "outputs": [
    {
     "data": {
      "text/plain": [
       "<nltk.stem.snowball.SnowballStemmer at 0x244aa5f93a0>"
      ]
     },
     "execution_count": 10,
     "metadata": {},
     "output_type": "execute_result"
    }
   ],
   "source": [
    "sb"
   ]
  },
  {
   "cell_type": "code",
   "execution_count": 11,
   "id": "b509ef66-cd92-4ce3-b45e-0d592c9ceede",
   "metadata": {},
   "outputs": [
    {
     "name": "stdout",
     "output_type": "stream",
     "text": [
      "code ==> code ==> code\n",
      "coder ==> coder ==> coder\n",
      "coding ==> code ==> code\n",
      "codes ==> code ==> code\n",
      "listening ==> listen ==> listen\n",
      "listener ==> listen ==> listen\n",
      "listen ==> listen ==> listen\n",
      "run ==> run ==> run\n",
      "runner ==> runner ==> runner\n",
      "running ==> run ==> run\n",
      "runs ==> run ==> run\n",
      "ran ==> ran ==> ran\n",
      "write ==> write ==> write\n",
      "writer ==> writer ==> writer\n",
      "writing ==> write ==> write\n",
      "writes ==> write ==> write\n",
      "university ==> univers ==> univers\n",
      "universities ==> univers ==> univers\n",
      "universe ==> univers ==> univers\n",
      "universal ==> univers ==> univers\n"
     ]
    }
   ],
   "source": [
    "for w in words :\n",
    "    print(w,end = \" ==> \")\n",
    "    psw = ps.stem(w)\n",
    "    sbw = sb.stem(w)\n",
    "    print(psw,end = \" ==> \")\n",
    "    print(sbw)\n",
    "    time.sleep(1)"
   ]
  },
  {
   "cell_type": "code",
   "execution_count": 13,
   "id": "6fee2125-dadc-47e3-8067-e92b4840f508",
   "metadata": {},
   "outputs": [],
   "source": [
    "from nltk.stem import LancasterStemmer"
   ]
  },
  {
   "cell_type": "code",
   "execution_count": 14,
   "id": "5a270278-0657-40b5-8a6f-55b74f793670",
   "metadata": {},
   "outputs": [],
   "source": [
    "ls = LancasterStemmer()"
   ]
  },
  {
   "cell_type": "code",
   "execution_count": 15,
   "id": "a9533ea0-9d11-4724-9dc3-12870efcda8d",
   "metadata": {},
   "outputs": [
    {
     "data": {
      "text/plain": [
       "<LancasterStemmer>"
      ]
     },
     "execution_count": 15,
     "metadata": {},
     "output_type": "execute_result"
    }
   ],
   "source": [
    "ls"
   ]
  },
  {
   "cell_type": "code",
   "execution_count": 16,
   "id": "0af7e049-8437-4983-8bed-de97af93bc7e",
   "metadata": {},
   "outputs": [
    {
     "name": "stdout",
     "output_type": "stream",
     "text": [
      "code ==> code ==> code ==> cod\n",
      "coder ==> coder ==> coder ==> cod\n",
      "coding ==> code ==> code ==> cod\n",
      "codes ==> code ==> code ==> cod\n",
      "listening ==> listen ==> listen ==> list\n",
      "listener ==> listen ==> listen ==> list\n",
      "listen ==> listen ==> listen ==> list\n",
      "run ==> run ==> run ==> run\n",
      "runner ==> runner ==> runner ==> run\n",
      "running ==> run ==> run ==> run\n",
      "runs ==> run ==> run ==> run\n",
      "ran ==> ran ==> ran ==> ran\n",
      "write ==> write ==> write ==> writ\n",
      "writer ==> writer ==> writer ==> writ\n",
      "writing ==> write ==> write ==> writ\n",
      "writes ==> write ==> write ==> writ\n",
      "university ==> univers ==> univers ==> univers\n",
      "universities ==> univers ==> univers ==> univers\n",
      "universe ==> univers ==> univers ==> univers\n",
      "universal ==> univers ==> univers ==> univers\n"
     ]
    }
   ],
   "source": [
    "for w in words :\n",
    "    print(w,end = \" ==> \")\n",
    "    psw = ps.stem(w)\n",
    "    sbw = sb.stem(w)\n",
    "    lsw = ls.stem(w)\n",
    "    print(psw,end = \" ==> \")\n",
    "    print(sbw, end = \" ==> \")\n",
    "    print(lsw)\n",
    "    time.sleep(1)"
   ]
  },
  {
   "cell_type": "markdown",
   "id": "fbb7ca8e-a25d-49f5-977e-11fd93206578",
   "metadata": {},
   "source": [
    "### LEMMATIZATION"
   ]
  },
  {
   "cell_type": "code",
   "execution_count": 17,
   "id": "d587312b-792c-4417-a865-aea71ec39476",
   "metadata": {},
   "outputs": [],
   "source": [
    "from nltk.stem import WordNetLemmatizer"
   ]
  },
  {
   "cell_type": "code",
   "execution_count": 19,
   "id": "92396045-f60d-4558-8b95-d6ff246fdd78",
   "metadata": {},
   "outputs": [
    {
     "name": "stderr",
     "output_type": "stream",
     "text": [
      "[nltk_data] Downloading package wordnet to\n",
      "[nltk_data]     C:\\Users\\pc\\AppData\\Roaming\\nltk_data...\n",
      "[nltk_data]   Package wordnet is already up-to-date!\n"
     ]
    },
    {
     "data": {
      "text/plain": [
       "True"
      ]
     },
     "execution_count": 19,
     "metadata": {},
     "output_type": "execute_result"
    }
   ],
   "source": [
    "nltk.download(\"wordnet\")"
   ]
  },
  {
   "cell_type": "code",
   "execution_count": 20,
   "id": "d24d681a-6496-49f1-9aa9-0535332c7820",
   "metadata": {},
   "outputs": [],
   "source": [
    "lemma = WordNetLemmatizer()"
   ]
  },
  {
   "cell_type": "code",
   "execution_count": 21,
   "id": "f25efcb3-8932-4568-b50e-bb7b1c8e9155",
   "metadata": {},
   "outputs": [
    {
     "data": {
      "text/plain": [
       "<WordNetLemmatizer>"
      ]
     },
     "execution_count": 21,
     "metadata": {},
     "output_type": "execute_result"
    }
   ],
   "source": [
    "lemma"
   ]
  },
  {
   "cell_type": "code",
   "execution_count": 22,
   "id": "60203d04-819a-4ece-a198-dc8a9fdad176",
   "metadata": {},
   "outputs": [
    {
     "data": {
      "text/plain": [
       "['code',\n",
       " 'coder',\n",
       " 'coding',\n",
       " 'codes',\n",
       " 'listening',\n",
       " 'listener',\n",
       " 'listen',\n",
       " 'run',\n",
       " 'runner',\n",
       " 'running',\n",
       " 'runs',\n",
       " 'ran',\n",
       " 'write',\n",
       " 'writer',\n",
       " 'writing',\n",
       " 'writes',\n",
       " 'university',\n",
       " 'universities',\n",
       " 'universe',\n",
       " 'universal']"
      ]
     },
     "execution_count": 22,
     "metadata": {},
     "output_type": "execute_result"
    }
   ],
   "source": [
    "words"
   ]
  },
  {
   "cell_type": "code",
   "execution_count": 24,
   "id": "33009ef5-0a36-4694-a0ab-5c291b5fcded",
   "metadata": {},
   "outputs": [
    {
     "name": "stdout",
     "output_type": "stream",
     "text": [
      "code ==> code\n",
      "coder ==> coder\n",
      "coding ==> coding\n",
      "codes ==> code\n",
      "listening ==> listening\n",
      "listener ==> listener\n",
      "listen ==> listen\n",
      "run ==> run\n",
      "runner ==> runner\n",
      "running ==> running\n",
      "runs ==> run\n",
      "ran ==> ran\n",
      "write ==> write\n",
      "writer ==> writer\n",
      "writing ==> writing\n",
      "writes ==> writes\n",
      "university ==> university\n",
      "universities ==> university\n",
      "universe ==> universe\n",
      "universal ==> universal\n"
     ]
    }
   ],
   "source": [
    "for w in words :\n",
    "    print(w, end = \" ==> \")\n",
    "    lword = lemma.lemmatize(w)\n",
    "    print(lword)\n",
    "    time.sleep(1)"
   ]
  },
  {
   "cell_type": "code",
   "execution_count": null,
   "id": "2b0ea654-cbae-4060-a704-167a4af23a68",
   "metadata": {},
   "outputs": [],
   "source": []
  }
 ],
 "metadata": {
  "kernelspec": {
   "display_name": "Python 3 (ipykernel)",
   "language": "python",
   "name": "python3"
  },
  "language_info": {
   "codemirror_mode": {
    "name": "ipython",
    "version": 3
   },
   "file_extension": ".py",
   "mimetype": "text/x-python",
   "name": "python",
   "nbconvert_exporter": "python",
   "pygments_lexer": "ipython3",
   "version": "3.12.4"
  }
 },
 "nbformat": 4,
 "nbformat_minor": 5
}
